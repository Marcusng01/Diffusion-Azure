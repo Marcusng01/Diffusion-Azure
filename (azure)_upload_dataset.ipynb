{
 "cells": [
  {
   "cell_type": "markdown",
   "metadata": {},
   "source": [
    "## Azure ML Stable Diffusion Expriment\n",
    "\n",
    "To use this notebook, you need to download `config.json` file from Azure ML Workspace and place it in this folder. This will allow us to get the workspace reference right away:"
   ]
  },
  {
   "cell_type": "markdown",
   "metadata": {},
   "source": [
    "First we get the dataset from the local directory "
   ]
  },
  {
   "cell_type": "code",
   "execution_count": null,
   "metadata": {},
   "outputs": [],
   "source": [
    "#Please change the directory to wherever the art data is stored. Etiher locally or on Azure ML notebooks directory\n",
    "dataset = r'Ukiyo_e'"
   ]
  },
  {
   "cell_type": "markdown",
   "metadata": {},
   "source": [
    "Then we have to remove certain keywords from the image names."
   ]
  },
  {
   "cell_type": "code",
   "execution_count": null,
   "metadata": {},
   "outputs": [],
   "source": [
    "import os\n",
    "import re\n",
    "# List of words to remove from filenames\n",
    "words_to_remove = [\"train\", \"test\", \"valid\"]\n",
    "\n",
    "# Function to rename files\n",
    "def rename_files(directory):\n",
    "    for foldername, subfolders, filenames in os.walk(directory):\n",
    "        for filename in filenames:\n",
    "            # Use regular expressions to replace \"train,\" \"test,\" and \"valid\" in filenames\n",
    "            new_filename = re.sub(r'(?i)(train|test|valid)', '', filename)\n",
    "            \n",
    "            # Check if the filename has changed\n",
    "            if new_filename != filename:\n",
    "                old_path = os.path.join(foldername, filename)\n",
    "                new_path = os.path.join(foldername, new_filename)\n",
    "                # Rename the file\n",
    "                os.rename(old_path, new_path)\n",
    "                print(f'Renamed: {filename} -> {new_filename}')\n",
    "\n",
    "# Call the function to rename files\n",
    "rename_files(dataset)"
   ]
  },
  {
   "cell_type": "markdown",
   "metadata": {},
   "source": [
    "Next we get the Azure ML workspace. "
   ]
  },
  {
   "cell_type": "code",
   "execution_count": null,
   "metadata": {},
   "outputs": [],
   "source": [
    "#Remeber to download the config file from the Azure Portal for your workspace\n",
    "from azureml.core import Workspace\n",
    "\n",
    "try:\n",
    "    ws = Workspace.from_config()\n",
    "    print(ws.name, ws.location, ws.resource_group, ws.location, sep='\\t')\n",
    "    print('Library configuration succeeded')\n",
    "except:\n",
    "    print('Workspace not found')"
   ]
  },
  {
   "cell_type": "markdown",
   "metadata": {},
   "source": [
    "Now we  get the default datastore in the workspace."
   ]
  },
  {
   "cell_type": "code",
   "execution_count": null,
   "metadata": {},
   "outputs": [],
   "source": [
    "from azureml.core import Dataset\n",
    "from azureml.data.datapath import DataPath\n",
    "ds = ws.get_default_datastore()"
   ]
  },
  {
   "cell_type": "markdown",
   "metadata": {},
   "source": [
    "And now we upload the images dataset into the Azure ML Workspace's default datastore:"
   ]
  },
  {
   "cell_type": "code",
   "execution_count": null,
   "metadata": {},
   "outputs": [],
   "source": [
    "#You may change the DataPath(ds,\"ukiyo_e\") to DataPath(ds,<your directory name here>)\n",
    "Dataset.File.upload_directory(src_dir=dataset, target=DataPath(ds,\"ukiyo_e\"), overwrite = True, show_progress=True)"
   ]
  }
 ],
 "metadata": {
  "kernelspec": {
   "display_name": "Python 3",
   "language": "python",
   "name": "python3"
  },
  "language_info": {
   "codemirror_mode": {
    "name": "ipython",
    "version": 3
   },
   "file_extension": ".py",
   "mimetype": "text/x-python",
   "name": "python",
   "nbconvert_exporter": "python",
   "pygments_lexer": "ipython3",
   "version": "3.11.3"
  },
  "orig_nbformat": 4
 },
 "nbformat": 4,
 "nbformat_minor": 2
}
